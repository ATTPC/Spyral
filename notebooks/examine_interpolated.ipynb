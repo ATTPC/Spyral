{
 "cells": [
  {
   "cell_type": "code",
   "execution_count": null,
   "metadata": {},
   "outputs": [],
   "source": [
    "import sys\n",
    "sys.path.append('..')\n",
    "from pcutils.core.track_generator import TrackInterpolator, InitialState\n",
    "from pcutils.core.config import load_config\n",
    "from pcutils.core.workspace import Workspace\n",
    "from pcutils.core.particle_id import load_particle_id\n",
    "from pcutils.core.target import Target\n",
    "from pcutils.core.solver_interp import fit_model, Guess, generate_trajectory\n",
    "from pcutils.core.cluster import Cluster\n",
    "\n",
    "import matplotlib.pyplot as plt\n",
    "import polars as pl\n",
    "import numpy as np\n",
    "import h5py as h5\n",
    "import numpy as np\n"
   ]
  },
  {
   "cell_type": "code",
   "execution_count": null,
   "metadata": {},
   "outputs": [],
   "source": [
    "config = load_config('../local_config.json')\n",
    "ws = Workspace(config.workspace)\n",
    "track_path = ws.get_track_file(config.solver.interp_file_name)\n",
    "tracks = TrackInterpolator(track_path)\n",
    "nuc_map = ws.get_nuclear_map()\n",
    "pid = load_particle_id(ws.get_gate_file_path(config.solver.particle_id_filename), nuc_map)\n",
    "target = Target(config.solver.gas_data_path, nuc_map)"
   ]
  },
  {
   "cell_type": "code",
   "execution_count": null,
   "metadata": {},
   "outputs": [],
   "source": [
    "run_number = 4\n",
    "cluster_file = h5.File(ws.get_cluster_file_path(run_number))\n",
    "estimate_df = pl.scan_parquet(ws.get_estimate_file_path_parquet(run_number))\n",
    "estimate_gated = estimate_df.filter(pl.struct(['dEdx', 'brho']).map(pid.cut.is_cols_inside)).collect().to_dict()\n",
    "cluster_group = cluster_file['cluster']\n",
    "nrows = len(estimate_gated['event'])\n",
    "row = np.random.randint(0, nrows)\n",
    "# row = 2413\n",
    "print(f'row: {row}')\n",
    "event = estimate_gated['event'][row]\n",
    "cluster_index = estimate_gated['cluster_index'][row]\n",
    "print(f'event: {event}')\n",
    "print(f'cluster index: {cluster_index}')\n",
    "event_group = cluster_group[f'event_{event}']\n",
    "local_cluster = event_group[f'cluster_{cluster_index}']\n",
    "print(f'Direction: {estimate_gated[\"direction\"][row]}')\n",
    "cluster = Cluster(event, local_cluster.attrs['label'], local_cluster['cloud'][:].copy())\n",
    "cluster.z_bin_width = local_cluster.attrs['z_bin_width']\n",
    "cluster.z_bin_low_edge = local_cluster.attrs['z_bin_low_edge']\n",
    "cluster.z_bin_hi_edge = local_cluster.attrs['z_bin_hi_edge']\n",
    "cluster.n_z_bins = local_cluster.attrs['n_z_bins']"
   ]
  },
  {
   "cell_type": "code",
   "execution_count": null,
   "metadata": {},
   "outputs": [],
   "source": [
    "guess = Guess(estimate_gated['brho'][row], estimate_gated['polar'][row], estimate_gated['azimuthal'][row], estimate_gated['vertex_x'][row], estimate_gated['vertex_y'][row], estimate_gated['vertex_z'][row])\n",
    "result = fit_model(cluster, guess, tracks, pid.nucleus)\n",
    "if result is None:\n",
    "    print('Guess outside of interpolation range!')\n",
    "best_fit_trajectory_xy = generate_trajectory(result, tracks, pid.nucleus)(cluster.data[:, 2]*0.001)\n",
    "cluster.data[:, :3] *= 0.001"
   ]
  },
  {
   "cell_type": "code",
   "execution_count": null,
   "metadata": {},
   "outputs": [],
   "source": [
    "plt.scatter(cluster.data[:, 0], cluster.data[:, 1], s=3, label='data')\n",
    "plt.scatter(best_fit_trajectory_xy[:, 0], best_fit_trajectory_xy[:, 1], s=3, label='fit')\n",
    "plt.legend()\n"
   ]
  },
  {
   "cell_type": "code",
   "execution_count": null,
   "metadata": {},
   "outputs": [],
   "source": [
    "plt.scatter(cluster.data[:, 2], cluster.data[:, 1], s=3, label='data')\n",
    "plt.scatter(cluster.data[:, 2], best_fit_trajectory_xy[:, 1], s=3, label='fit')\n"
   ]
  },
  {
   "cell_type": "code",
   "execution_count": null,
   "metadata": {},
   "outputs": [],
   "source": [
    "plt.scatter(cluster.data[:, 2], cluster.data[:, 0], s=3, label='data')\n",
    "plt.scatter(cluster.data[:, 2], best_fit_trajectory_xy[:, 0], s=3, label='fit')"
   ]
  }
 ],
 "metadata": {
  "kernelspec": {
   "display_name": ".venv",
   "language": "python",
   "name": "python3"
  },
  "language_info": {
   "codemirror_mode": {
    "name": "ipython",
    "version": 3
   },
   "file_extension": ".py",
   "mimetype": "text/x-python",
   "name": "python",
   "nbconvert_exporter": "python",
   "pygments_lexer": "ipython3",
   "version": "3.11.0rc1"
  },
  "orig_nbformat": 4
 },
 "nbformat": 4,
 "nbformat_minor": 2
}
