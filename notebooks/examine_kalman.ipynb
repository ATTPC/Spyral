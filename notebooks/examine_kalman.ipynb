{
 "cells": [
  {
   "cell_type": "markdown",
   "metadata": {},
   "source": [
    "# Extracting Physics Using the Unscented Kalman Filter\n",
    "\n",
    "Now that we have generated data up through phase 3, we are ready to extract best estimate physics parameters from the particle trajectories. We won't go into to much detail here other than to say that the core priciple is to minimize the intial parameters used to solve the differential equations describing the motion of the particles in the gas (including energy loss effects). This can be rather complicated. To try and make this problem tractable, we use the Unscented Kalman Filter from filterpy. Kalman filters are a whole area of research; we use the Unscented filter because it is well suited to non-linear systems.\n",
    "\n",
    "First, all of our imports"
   ]
  },
  {
   "cell_type": "code",
   "execution_count": null,
   "metadata": {},
   "outputs": [],
   "source": [
    "import sys\n",
    "sys.path.append('..')\n",
    "from pcutils.core.config import load_config\n",
    "from pcutils.core.workspace import Workspace\n",
    "from pcutils.core.clusterize import Cluster\n",
    "from pcutils.core.estimator import Direction\n",
    "from pcutils.core.particle_id import load_particle_id\n",
    "from pcutils.core.target import Target\n",
    "from pcutils.core.solver_kalman import apply_kalman_filter, QBRHO_2_P, Guess\n",
    "from pcutils.core.kalman_args import set_kalman_args\n",
    "\n",
    "import polars as pl\n",
    "import numpy as np\n",
    "import h5py as h5\n",
    "import matplotlib.pyplot as plt\n",
    "from scipy import constants"
   ]
  },
  {
   "cell_type": "markdown",
   "metadata": {},
   "source": [
    "Now, as usual, we load our configuration"
   ]
  },
  {
   "cell_type": "code",
   "execution_count": null,
   "metadata": {},
   "outputs": [],
   "source": [
    "config = load_config('../local_config.json')\n",
    "ws = Workspace(config.workspace)\n",
    "nuc_map = ws.get_nuclear_map()\n",
    "pid = load_particle_id(ws.get_gate_file_path(config.solver.particle_id_filename), nuc_map)\n",
    "target = Target(config.solver.gas_data_path, nuc_map)"
   ]
  },
  {
   "cell_type": "markdown",
   "metadata": {},
   "source": [
    "Notice here we've loaded not only our workspace but also our paritcle ID data and a target. These are important! Now that we're doing physics we need to pick slices of data that correspond to specific particles so that we can select the appropriate charge and mass. The target allows us to calculate energy loss.\n",
    "\n",
    "Now we load up our cluster data as well as our estimates from phase 3."
   ]
  },
  {
   "cell_type": "code",
   "execution_count": null,
   "metadata": {},
   "outputs": [],
   "source": [
    "run_number = 4\n",
    "cluster_file = h5.File(ws.get_cluster_file_path(run_number))\n",
    "estimate_df = pl.scan_parquet(ws.get_estimate_file_path_parquet(run_number))\n",
    "estimate_gated = estimate_df.filter(pl.struct(['dEdx', 'brho']).map(pid.cut.is_cols_inside)).collect().to_dict()\n",
    "cluster_group = cluster_file['cluster']\n",
    "nrows = len(estimate_gated['event'])\n",
    "row = np.random.randint(0, nrows)\n",
    "#row = 587\n",
    "print(f'row: {row}')\n",
    "event = estimate_gated['event'][row]\n",
    "cluster_index = estimate_gated['cluster_index'][row]\n",
    "print(f'event: {event}')\n",
    "print(f'cluster index: {cluster_index}')\n",
    "event_group = cluster_group[f'event_{event}']\n",
    "local_cluster = event_group[f'cluster_{cluster_index}']\n",
    "print(f'Direction: {estimate_gated[\"direction\"][row]}')\n",
    "cluster = Cluster(event, local_cluster.attrs['label'], local_cluster['cloud'][:].copy())\n",
    "cluster.z_bin_width = local_cluster.attrs['z_bin_width']\n",
    "cluster.z_bin_low_edge = local_cluster.attrs['z_bin_low_edge']\n",
    "cluster.z_bin_hi_edge = local_cluster.attrs['z_bin_hi_edge']\n",
    "cluster.n_z_bins = local_cluster.attrs['n_z_bins']\n",
    "# Rescale to m\n",
    "cluster.data[:, :3] *= 0.001"
   ]
  },
  {
   "cell_type": "markdown",
   "metadata": {},
   "source": [
    "As per usual we've selected a random cluster to look at. Now we create a Guess from our estimated parameters. We also handle flipping the data if the direction is backwards (>90 degrees lab)."
   ]
  },
  {
   "cell_type": "code",
   "execution_count": null,
   "metadata": {},
   "outputs": [],
   "source": [
    "guess = Guess()\n",
    "guess.brho = estimate_gated['brho'][row]\n",
    "guess.polar = estimate_gated['polar'][row]\n",
    "guess.azimuthal = estimate_gated['azimuthal'][row]\n",
    "#again rescale to meters\n",
    "guess.vertex_x = estimate_gated['vertex_x'][row] * 0.001\n",
    "guess.vertex_y = estimate_gated['vertex_y'][row] * 0.001\n",
    "guess.vertex_z = estimate_gated['vertex_z'][row] * 0.001\n",
    "guess.direction = Direction(estimate_gated['direction'][row])\n",
    "if guess.direction is Direction.BACKWARD:\n",
    "    np.flip(cluster.data, axis=0)"
   ]
  },
  {
   "cell_type": "markdown",
   "metadata": {},
   "source": [
    "Now we pass the extra filter arguments to a special class."
   ]
  },
  {
   "cell_type": "code",
   "execution_count": null,
   "metadata": {},
   "outputs": [],
   "source": [
    "Bfield = -1.0 * config.detector.magnetic_field\n",
    "Efield = -1.0 * config.detector.electric_field\n",
    "set_kalman_args(target, pid.nucleus, Bfield, Efield)"
   ]
  },
  {
   "cell_type": "markdown",
   "metadata": {},
   "source": [
    "Annnnnd, then we run the Unscented Kalman Filter!"
   ]
  },
  {
   "cell_type": "code",
   "execution_count": null,
   "metadata": {},
   "outputs": [],
   "source": [
    "trajectory, covariances = apply_kalman_filter(cluster.data[:,:3], cluster.z_bin_width * 0.001, guess)"
   ]
  },
  {
   "cell_type": "markdown",
   "metadata": {},
   "source": [
    "The filter returns to us the filtered, smoothed trajectory and the covariances. In principle, this is the best fit of our equations to the data. Now we can plot the trajectory against the data, as shown below"
   ]
  },
  {
   "cell_type": "code",
   "execution_count": null,
   "metadata": {},
   "outputs": [],
   "source": [
    "plt.scatter(cluster.data[:, 0], cluster.data[:, 1].copy(), s=2, label='data')\n",
    "plt.scatter(trajectory[:, 0], trajectory[:, 1], s=2, label='filter')\n",
    "plt.scatter(trajectory[0, 0], trajectory[0, 1], s=2, label='filter 0')\n"
   ]
  },
  {
   "cell_type": "code",
   "execution_count": null,
   "metadata": {},
   "outputs": [],
   "source": [
    "plt.scatter(cluster.data[:, 2], cluster.data[:, 1], s=2, label='data')\n",
    "plt.scatter(trajectory[:, 2], trajectory[:, 1], s=2, label='filter')\n",
    "plt.scatter(trajectory[0, 2], trajectory[0, 1], s=2, label='filter 0')\n"
   ]
  },
  {
   "cell_type": "code",
   "execution_count": null,
   "metadata": {},
   "outputs": [],
   "source": [
    "plt.scatter(cluster.data[:, 2], cluster.data[:, 0], s=2, label='data')\n",
    "plt.scatter(trajectory[:, 2], trajectory[:, 0], s=2, label='filter')\n",
    "plt.scatter(trajectory[0, 2], trajectory[0, 0], s=2, label='filter 0')"
   ]
  },
  {
   "cell_type": "markdown",
   "metadata": {},
   "source": [
    "We can also compare the our original guess of the initial position to the trajetory estimated initial position (as well as energy and angles)"
   ]
  },
  {
   "cell_type": "code",
   "execution_count": null,
   "metadata": {},
   "outputs": [],
   "source": [
    "print(f'Initial guess: {guess}')\n",
    "buest_guess = Guess()\n",
    "buest_guess.polar = np.arctan2(np.linalg.norm(trajectory[0, 3:5]), trajectory[0, 5])\n",
    "buest_guess.azimuthal = np.arctan2(trajectory[0, 4], trajectory[0, 3])\n",
    "if buest_guess.azimuthal < 0:\n",
    "    buest_guess.azimuthal += np.pi * 2.0\n",
    "buest_guess.vertex_x = trajectory[0, 0]\n",
    "buest_guess.vertex_y = trajectory[0, 1]\n",
    "buest_guess.vertex_z = trajectory[0, 2]\n",
    "best_momentum = pid.nucleus.mass * (np.linalg.norm(trajectory[0, 3:]) / constants.speed_of_light)\n",
    "buest_guess.brho = best_momentum / (QBRHO_2_P * pid.nucleus.Z)\n",
    "print(f'Best guess: {buest_guess}')"
   ]
  },
  {
   "cell_type": "markdown",
   "metadata": {},
   "source": [
    "Now we have a best estimate for the physics from this particular cluster, using the Kalman filter!"
   ]
  }
 ],
 "metadata": {
  "kernelspec": {
   "display_name": ".venv",
   "language": "python",
   "name": "python3"
  },
  "language_info": {
   "codemirror_mode": {
    "name": "ipython",
    "version": 3
   },
   "file_extension": ".py",
   "mimetype": "text/x-python",
   "name": "python",
   "nbconvert_exporter": "python",
   "pygments_lexer": "ipython3",
   "version": "3.11.5"
  },
  "orig_nbformat": 4
 },
 "nbformat": 4,
 "nbformat_minor": 2
}
