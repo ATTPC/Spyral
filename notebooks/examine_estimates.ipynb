{
 "cells": [
  {
   "cell_type": "markdown",
   "metadata": {},
   "source": [
    "# Estimating Physics Parameters\n",
    "\n",
    "Once clusters have been identified, the next step is to estimate the physics parameters which will be feed to the solver of choice (either ODE or Kalman filter). The main points are the initial orientation and energy of the particle, as well as the species of the particle. \n",
    "\n",
    "First we import our code"
   ]
  },
  {
   "cell_type": "code",
   "execution_count": null,
   "metadata": {},
   "outputs": [],
   "source": [
    "import sys\n",
    "sys.path.append('..')\n",
    "from pcutils.core.config import load_config\n",
    "from pcutils.core.workspace import Workspace\n",
    "from pcutils.core.point_cloud import PointCloud\n",
    "from pcutils.core.clusterize import ClusteredCloud\n",
    "from pcutils.core.estimator import estimate_physics, generate_circle_points\n",
    "import h5py as h5\n",
    "import matplotlib.pyplot as plt\n",
    "import numpy.random as random\n",
    "import numpy as np"
   ]
  },
  {
   "cell_type": "markdown",
   "metadata": {},
   "source": [
    "Now that we have our modules, we need to load our configuration and workspace, as usual. Here we also load up a result container that we will use with our code."
   ]
  },
  {
   "cell_type": "code",
   "execution_count": null,
   "metadata": {},
   "outputs": [],
   "source": [
    "config = load_config('../config.json')\n",
    "ws = Workspace(config.workspace)\n",
    "\n",
    "results: dict[str, list] = {'event': [], 'cluster_index': [], 'cluster_label': [], 'vertex_x': [], 'vertex_y': [], 'vertex_z': [],\\\n",
    "                             'center_x': [], 'center_y': [], 'center_z': [], 'polar': [], 'azimuthal': [],\\\n",
    "                             'brho': [], 'dEdx': [], 'dE': [], 'arclength': [], 'direction': []}"
   ]
  },
  {
   "cell_type": "markdown",
   "metadata": {},
   "source": [
    "From our workspace we can then request the file for our clusters, and read in a random cluster from the file"
   ]
  },
  {
   "cell_type": "code",
   "execution_count": null,
   "metadata": {},
   "outputs": [],
   "source": [
    "run_number = 4\n",
    "cluster_file = h5.File(ws.get_cluster_file_path(run_number))\n",
    "cluster_group = cluster_file['cluster']\n",
    "min_event = cluster_group.attrs['min_event']\n",
    "max_event = cluster_group.attrs['max_event']\n",
    "print(min_event, max_event)\n",
    "event_group = None\n",
    "event = 0\n",
    "nclusters = 0\n",
    "while(True):\n",
    "    event = np.random.randint(min_event, max_event)\n",
    "    #event = 2510\n",
    "    try:\n",
    "        event_group = cluster_group[f'event_{event}']\n",
    "        nclusters = event_group.attrs['nclusters']\n",
    "        if nclusters != 0:\n",
    "            break\n",
    "    except:\n",
    "        continue\n",
    "local_cluster = None\n",
    "cluster_index = np.random.randint(0, nclusters)\n",
    "local_cluster = event_group[f'cluster_{cluster_index}']\n",
    "\n",
    "print(f'event: {event}')\n",
    "print(f'cluster index: {cluster_index}')\n",
    "cluster = ClusteredCloud()\n",
    "cluster.label = local_cluster.attrs['label']\n",
    "cluster.point_cloud = PointCloud()\n",
    "cluster.point_cloud.load_cloud_from_hdf5_data(local_cluster['cloud'][:].copy(), event)"
   ]
  },
  {
   "cell_type": "markdown",
   "metadata": {},
   "source": [
    "With our cluster selected and loaded, we can now send it, along with some configuration paramters, through the estimator code."
   ]
  },
  {
   "cell_type": "code",
   "execution_count": null,
   "metadata": {},
   "outputs": [],
   "source": [
    "estimate_physics(cluster_index, cluster, config.estimate, config.detector, results)"
   ]
  },
  {
   "cell_type": "markdown",
   "metadata": {},
   "source": [
    "Now we can look at some of our results! First we'll look at the circle fit, and the estimated vertex poistion, which is how we estimate $B\\rho$. We'll also draw a line corresponding to the estimated initial direction"
   ]
  },
  {
   "cell_type": "code",
   "execution_count": null,
   "metadata": {},
   "outputs": [],
   "source": [
    "center_x = results['center_x'][-1]\n",
    "center_y = results['center_y'][-1]\n",
    "vertex_x = results['vertex_x'][-1]\n",
    "vertex_y = results['vertex_y'][-1]\n",
    "theta = results['polar'][-1]\n",
    "phi = results['azimuthal'][-1]\n",
    "brho = results['brho'][-1]\n",
    "rho_mm = brho/config.detector.magnetic_field * 1000.0 * np.sin(theta)\n",
    "print(brho)\n",
    "print(rho_mm)\n",
    "length_samples = np.linspace(1.0, 50.0, 50)\n",
    "dir_x_samples = length_samples * np.cos(phi) + vertex_x\n",
    "dir_y_samples = length_samples * np.sin(phi) + vertex_y\n",
    "\n",
    "circle_points = generate_circle_points(center_x, center_y, rho_mm)\n",
    "plt.scatter(cluster.point_cloud.cloud[:, 0], cluster.point_cloud.cloud[:, 1], label='cluster', s=2)\n",
    "plt.plot(circle_points[:, 0], circle_points[:, 1], label='circle')\n",
    "plt.scatter(vertex_x, vertex_y, label='vertex')\n",
    "plt.plot(dir_x_samples, dir_y_samples, label='direction')\n",
    "plt.show()"
   ]
  },
  {
   "cell_type": "markdown",
   "metadata": {},
   "source": [
    "We can also start building up a particle id using $B\\rho$ and $\\frac{dE}{dx}$. If you run the three cells above this repeatedly, you'll see the plot below fill with data!"
   ]
  },
  {
   "cell_type": "code",
   "execution_count": null,
   "metadata": {},
   "outputs": [],
   "source": [
    "plt.scatter(results['dEdx'], results['brho'], s=3)\n",
    "plt.xlim(0, 20000)\n",
    "plt.ylim(0, 1.5)"
   ]
  },
  {
   "cell_type": "markdown",
   "metadata": {},
   "source": [
    "In this way you can examine and tune the parameters for the estimation phase. If you want to make complete particle ID plots, it is recommended to use the plotter.py script rather than these notebooks, which are more for demonstration."
   ]
  }
 ],
 "metadata": {
  "kernelspec": {
   "display_name": ".venv",
   "language": "python",
   "name": "python3"
  },
  "language_info": {
   "codemirror_mode": {
    "name": "ipython",
    "version": 3
   },
   "file_extension": ".py",
   "mimetype": "text/x-python",
   "name": "python",
   "nbconvert_exporter": "python",
   "pygments_lexer": "ipython3",
   "version": "3.11.5"
  },
  "orig_nbformat": 4
 },
 "nbformat": 4,
 "nbformat_minor": 2
}
