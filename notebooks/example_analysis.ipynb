{
 "cells": [
  {
   "cell_type": "code",
   "execution_count": null,
   "metadata": {},
   "outputs": [],
   "source": [
    "import sys\n",
    "sys.path.append('..')\n",
    "from pcutils.core.config import load_config\n",
    "from pcutils.core.workspace import Workspace\n",
    "from pcutils.plot.histogram import Histogrammer\n",
    "from pcutils.core.target import Target\n",
    "from pcutils.core.constants import AMU_2_MEV\n",
    "import matplotlib.pyplot as plt\n",
    "import polars as pl\n",
    "import numpy as np\n",
    "from scipy import constants\n",
    "\n",
    "QBRHO_2_P: float = 1.0e-9 * constants.speed_of_light * 100.0 * 10.0 #T * m -> MeV/c"
   ]
  },
  {
   "cell_type": "code",
   "execution_count": null,
   "metadata": {},
   "outputs": [],
   "source": [
    "config = load_config('../local_config.json')\n",
    "ws = Workspace(config.workspace)\n",
    "nuclear_map = ws.get_nuclear_map()\n",
    "target_material = Target(config.solver.gas_data_path, nuclear_map)\n",
    "ejectile = nuclear_map.get_data(1, 2)\n",
    "projectile = nuclear_map.get_data(6, 16)\n",
    "target = nuclear_map.get_data(1, 2)\n",
    "residual = nuclear_map.get_data(6, 16)\n",
    "mass_amu = projectile.mass / AMU_2_MEV\n",
    "proj_energy_start = 11.6 * mass_amu #MeV\n"
   ]
  },
  {
   "cell_type": "code",
   "execution_count": null,
   "metadata": {},
   "outputs": [],
   "source": [
    "\n",
    "grammer = Histogrammer()\n",
    "grammer.add_hist2d('ke_theta', (180, 1600), ((0.0, 90.0), (0.0, 80.0)))\n",
    "grammer.add_hist2d('ke_phi', (360, 1600), ((0.0, 360.0), (0.0, 80.0)))\n",
    "grammer.add_hist1d('ex', 750, (-5.0, 10.0))"
   ]
  },
  {
   "cell_type": "code",
   "execution_count": null,
   "metadata": {},
   "outputs": [],
   "source": [
    "targ_vec = np.array([0., 0., 0., target.mass])\n",
    "Q_mass = target.mass + projectile.mass - ejectile.mass - residual.mass\n",
    "for run in range(config.run.run_min, config.run.run_max+1):\n",
    "    df = None\n",
    "    try:\n",
    "        df = pl.read_parquet(ws.get_physics_file_path_parquet(run, ejectile))\n",
    "    except Exception:\n",
    "        continue\n",
    "\n",
    "    vertices = df.select(['vertex_x', 'vertex_y', 'vertex_z']).to_numpy()\n",
    "    distances = np.linalg.norm(vertices, axis=1)\n",
    "    proj_energy = proj_energy_start - target_material.get_energy_loss(projectile, proj_energy_start, distances)\n",
    "\n",
    "    brho = df.select('brho').to_numpy().flatten()\n",
    "    momentum = df.select('brho').to_numpy().flatten() * float(ejectile.Z) * QBRHO_2_P\n",
    "    kinetic_energy = np.sqrt(momentum**2.0 + ejectile.mass**2.0) - ejectile.mass\n",
    "    polar = df.select('polar').to_numpy().flatten()\n",
    "    az = df.select('azimuthal').to_numpy().flatten()\n",
    "\n",
    "    qterm = 2.0/residual.mass * np.sqrt(projectile.mass * ejectile.mass * kinetic_energy * proj_energy) * np.cos(polar)\n",
    "    Q_rxn = -1.0 * (kinetic_energy * (1.0 + ejectile.mass/residual.mass) + proj_energy * ( projectile.mass/residual.mass - 1.0) - qterm)\n",
    "\n",
    "    grammer.fill_hist2d('ke_theta', np.rad2deg(polar), kinetic_energy)\n",
    "    grammer.fill_hist2d('ke_theta_resid', np.rad2deg(polar), kinetic_energy)\n",
    "    grammer.fill_hist2d('ke_phi', np.rad2deg(az), kinetic_energy)\n",
    "    grammer.fill_hist1d('ex', Q_rxn + Q_mass)"
   ]
  },
  {
   "cell_type": "code",
   "execution_count": null,
   "metadata": {},
   "outputs": [],
   "source": [
    "angle_range = np.linspace(0., np.pi*0.5, 1000)\n",
    "\n",
    "ex = 0.0\n",
    "\n",
    "Q = projectile.mass + target.mass - (ejectile.mass + residual.mass + ex)\n",
    "term1 = np.sqrt(projectile.mass * ejectile.mass * proj_energy_start) / (ejectile.mass + residual.mass) * np.cos(angle_range)\n",
    "term2 = (proj_energy_start * (residual.mass - projectile.mass) + residual.mass*Q) / (residual.mass + ejectile.mass)\n",
    "eject_energy = term1 + np.sqrt(term1*term1 + term2)\n",
    "eject_energy = eject_energy**2.0"
   ]
  },
  {
   "cell_type": "code",
   "execution_count": null,
   "metadata": {},
   "outputs": [],
   "source": [
    "fig, ax = plt.subplots(1,2)\n",
    "fig.set_figwidth(16)\n",
    "fig.set_figheight(10)\n",
    "mesh = grammer.draw_hist2d('ke_theta', ax[0], log_z=False)\n",
    "ax[0].scatter(angle_range*180.0/np.pi, eject_energy, s=3, color='r')\n",
    "ax[0].set_xlabel(r'$\\theta_{Lab}$')\n",
    "ax[0].set_ylabel('Kinetic Energy (MeV)')\n",
    "ax[0].set_ylim(0.0, 80.0)\n",
    "plt.colorbar(mesh, ax=ax[0])\n",
    "mesh2 = grammer.draw_hist2d('ke_phi', ax[1], log_z=False)\n",
    "ax[1].set_xlabel(r'$\\phi_{Lab}$')\n",
    "ax[1].set_ylabel('Kinetic Energy (MeV)')\n",
    "plt.colorbar(mesh, ax=ax[1])\n",
    "plt.tight_layout()"
   ]
  },
  {
   "cell_type": "code",
   "execution_count": null,
   "metadata": {},
   "outputs": [],
   "source": [
    "fig, ax = plt.subplots(1,1)\n",
    "fig.set_figwidth(16)\n",
    "fig.set_figheight(10)\n",
    "grammer.draw_hist1d('ex', ax)"
   ]
  }
 ],
 "metadata": {
  "kernelspec": {
   "display_name": ".venv",
   "language": "python",
   "name": "python3"
  },
  "language_info": {
   "codemirror_mode": {
    "name": "ipython",
    "version": 3
   },
   "file_extension": ".py",
   "mimetype": "text/x-python",
   "name": "python",
   "nbconvert_exporter": "python",
   "pygments_lexer": "ipython3",
   "version": "3.11.5"
  },
  "orig_nbformat": 4
 },
 "nbformat": 4,
 "nbformat_minor": 2
}
