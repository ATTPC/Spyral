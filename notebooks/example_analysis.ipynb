{
 "cells": [
  {
   "cell_type": "code",
   "execution_count": null,
   "metadata": {},
   "outputs": [],
   "source": [
    "import sys\n",
    "sys.path.append('..')\n",
    "from pcutils.core.config import load_config\n",
    "from pcutils.core.workspace import Workspace\n",
    "from pcutils.core.nuclear_data import NucleusData\n",
    "from pcutils.plot.histogram import Histogrammer\n",
    "import matplotlib.pyplot as plt\n",
    "import polars as pl\n",
    "import numpy as np\n",
    "from scipy import constants\n",
    "\n",
    "QBRHO_2_P: float = 1.0e-9 * constants.speed_of_light * 100.0 * 10.0 #T * m -> MeV/c"
   ]
  },
  {
   "cell_type": "code",
   "execution_count": null,
   "metadata": {},
   "outputs": [],
   "source": [
    "config = load_config('../local_config.json')\n",
    "ws = Workspace(config.workspace)\n",
    "nuclear_map = ws.get_nuclear_map()\n",
    "ejectile = nuclear_map.get_data(1, 2)\n",
    "projectile = nuclear_map.get_data(6, 16)\n",
    "target = nuclear_map.get_data(1, 2)\n",
    "residual = nuclear_map.get_data(6, 16)"
   ]
  },
  {
   "cell_type": "code",
   "execution_count": null,
   "metadata": {},
   "outputs": [],
   "source": [
    "\n",
    "grammer = Histogrammer()\n",
    "grammer.add_hist2d('ke_theta', (180, 1600), ((0.0, 90.0), (0.0, 80.0)))\n",
    "grammer.add_hist2d('ke_phi', (360, 1000), ((0.0, 360.0), (0.0, 40.0)))\n",
    "grammer.add_hist1d('ex', 1000, (0.0, 10.0))"
   ]
  },
  {
   "cell_type": "code",
   "execution_count": null,
   "metadata": {},
   "outputs": [],
   "source": [
    "for run in range(config.run.run_min, config.run.run_max+1):\n",
    "    df = None\n",
    "    try:\n",
    "        df = pl.read_parquet(ws.get_physics_file_path_parquet(run, ejectile))\n",
    "    except Exception:\n",
    "        continue\n",
    "    momentum = df.select('brho').to_numpy() * float(ejectile.Z) * QBRHO_2_P\n",
    "    kinetic_energy = np.sqrt(momentum**2.0 + ejectile.mass**2.0) - ejectile.mass\n",
    "    polar = np.rad2deg(df.select('polar').to_numpy())\n",
    "    az = np.rad2deg(df.select('azimuthal').to_numpy())\n",
    "    grammer.fill_hist2d('ke_theta', polar, kinetic_energy)\n",
    "    grammer.fill_hist2d('ke_phi', az, kinetic_energy)"
   ]
  },
  {
   "cell_type": "code",
   "execution_count": null,
   "metadata": {},
   "outputs": [],
   "source": [
    "fig, ax = plt.subplots(1,2)\n",
    "fig.set_figwidth(16)\n",
    "fig.set_figheight(10)\n",
    "mesh = grammer.draw_hist2d('ke_theta', ax[0], log_z=False)\n",
    "ax[0].set_xlabel(r'$\\theta_{Lab}$')\n",
    "ax[0].set_ylabel('Kinetic Energy (MeV)')\n",
    "plt.colorbar(mesh, ax=ax[0])\n",
    "mesh2 = grammer.draw_hist2d('ke_phi', ax[1], log_z=False)\n",
    "ax[1].set_xlabel(r'$\\phi_{Lab}$')\n",
    "ax[1].set_ylabel('Kinetic Energy (MeV)')\n",
    "plt.colorbar(mesh, ax=ax[1])\n",
    "plt.tight_layout()"
   ]
  },
  {
   "cell_type": "code",
   "execution_count": null,
   "metadata": {},
   "outputs": [],
   "source": []
  }
 ],
 "metadata": {
  "kernelspec": {
   "display_name": ".venv",
   "language": "python",
   "name": "python3"
  },
  "language_info": {
   "codemirror_mode": {
    "name": "ipython",
    "version": 3
   },
   "file_extension": ".py",
   "mimetype": "text/x-python",
   "name": "python",
   "nbconvert_exporter": "python",
   "pygments_lexer": "ipython3",
   "version": "3.11.5"
  },
  "orig_nbformat": 4
 },
 "nbformat": 4,
 "nbformat_minor": 2
}
