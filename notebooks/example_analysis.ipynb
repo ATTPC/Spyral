{
 "cells": [
  {
   "cell_type": "code",
   "execution_count": null,
   "metadata": {},
   "outputs": [],
   "source": [
    "import sys\n",
    "sys.path.append('..')\n",
    "from pcutils.core.config import load_config\n",
    "from pcutils.core.workspace import Workspace\n",
    "from pcutils.plot.histogram import Histogrammer\n",
    "import matplotlib.pyplot as plt\n",
    "import polars as pl\n",
    "import numpy as np\n",
    "import math\n",
    "from scipy import constants\n",
    "\n",
    "QBRHO_2_P: float = 1.0e-9 * constants.speed_of_light * 100.0 * 10.0 #T * m -> MeV/c"
   ]
  },
  {
   "cell_type": "code",
   "execution_count": null,
   "metadata": {},
   "outputs": [],
   "source": [
    "config = load_config('../local_config.json')\n",
    "ws = Workspace(config.workspace)\n",
    "nuclear_map = ws.get_nuclear_map()\n",
    "ejectile = nuclear_map.get_data(1, 2)\n",
    "projectile = nuclear_map.get_data(6, 16)\n",
    "target = nuclear_map.get_data(1, 2)\n",
    "residual = nuclear_map.get_data(6, 16)\n",
    "proj_energy = 11.5 * projectile.atomic_mass #MeV\n",
    "proj_momentum = np.sqrt(proj_energy * (proj_energy + 2.0 * projectile.mass))\n"
   ]
  },
  {
   "cell_type": "code",
   "execution_count": null,
   "metadata": {},
   "outputs": [],
   "source": [
    "\n",
    "grammer = Histogrammer()\n",
    "grammer.add_hist2d('ke_theta', (180, 1600), ((0.0, 90.0), (0.0, 50.0)))\n",
    "grammer.add_hist2d('ke_phi', (360, 1000), ((0.0, 360.0), (0.0, 50.0)))\n",
    "grammer.add_hist1d('ex', 1000, (-10.0, 10.0))"
   ]
  },
  {
   "cell_type": "code",
   "execution_count": null,
   "metadata": {},
   "outputs": [],
   "source": [
    "proj_vec = np.array([0., 0., proj_momentum, proj_energy + projectile.mass])\n",
    "targ_vec = np.array([0., 0., 0., target.mass])\n",
    "for run in range(config.run.run_min, config.run.run_max+1):\n",
    "    df = None\n",
    "    try:\n",
    "        df = pl.read_parquet(ws.get_physics_file_path_parquet(run, ejectile))\n",
    "    except Exception:\n",
    "        continue\n",
    "\n",
    "    print(ejectile.Z)\n",
    "\n",
    "    brho = df.select('brho').to_numpy().flatten()\n",
    "    print(brho)\n",
    "    momentum = df.select('brho').to_numpy().flatten() * float(ejectile.Z) * QBRHO_2_P\n",
    "    eject_vecs = np.zeros((len(momentum), 4))\n",
    "    kinetic_energy = np.sqrt(momentum**2.0 + ejectile.mass**2.0) - ejectile.mass\n",
    "    print(kinetic_energy)\n",
    "    polar = np.rad2deg(df.select('polar').to_numpy().flatten())\n",
    "    az = np.rad2deg(df.select('azimuthal').to_numpy().flatten())\n",
    "    eject_vecs[:, 0] = (np.sin(polar) * np.cos(az) * momentum)\n",
    "    eject_vecs[:, 1] = (np.sin(polar) * np.sin(az) * momentum)\n",
    "    eject_vecs[:, 2] = (np.cos(polar) * momentum)\n",
    "    eject_vecs[:, 3] = (kinetic_energy + ejectile.mass)\n",
    "\n",
    "    resid_vecs = proj_vec + targ_vec - eject_vecs\n",
    "\n",
    "    exs = np.sqrt(resid_vecs[:, 3] ** 2.0 - np.linalg.norm(resid_vecs[:, :3], axis=1)**2.0) - residual.mass\n",
    "    print(exs)\n",
    "\n",
    "    grammer.fill_hist2d('ke_theta', polar, kinetic_energy)\n",
    "    grammer.fill_hist2d('ke_phi', az, kinetic_energy)\n",
    "    grammer.fill_hist1d('ex', exs)"
   ]
  },
  {
   "cell_type": "code",
   "execution_count": null,
   "metadata": {},
   "outputs": [],
   "source": [
    "angle_range = np.linspace(0., np.pi*0.5, 1000)\n",
    "\n",
    "ex = 0.0\n",
    "\n",
    "Q = projectile.mass + target.mass - (ejectile.mass + residual.mass + ex)\n",
    "term1 = np.sqrt(projectile.mass * ejectile.mass * proj_energy) / (ejectile.mass + residual.mass) * np.cos(angle_range)\n",
    "term2 = (proj_energy * (residual.mass - projectile.mass) + residual.mass*Q) / (residual.mass + ejectile.mass)\n",
    "eject_energy = term1 + np.sqrt(term1*term1 + term2)\n",
    "eject_energy = eject_energy**2.0"
   ]
  },
  {
   "cell_type": "code",
   "execution_count": null,
   "metadata": {},
   "outputs": [],
   "source": [
    "fig, ax = plt.subplots(1,2)\n",
    "fig.set_figwidth(16)\n",
    "fig.set_figheight(10)\n",
    "mesh = grammer.draw_hist2d('ke_theta', ax[0], log_z=False)\n",
    "ax[0].scatter(angle_range*180.0/np.pi, eject_energy, s=3, color='r')\n",
    "ax[0].set_xlabel(r'$\\theta_{Lab}$')\n",
    "ax[0].set_ylabel('Kinetic Energy (MeV)')\n",
    "ax[0].set_ylim(0.0, 40.0)\n",
    "plt.colorbar(mesh, ax=ax[0])\n",
    "mesh2 = grammer.draw_hist2d('ke_phi', ax[1], log_z=False)\n",
    "ax[1].set_xlabel(r'$\\phi_{Lab}$')\n",
    "ax[1].set_ylabel('Kinetic Energy (MeV)')\n",
    "plt.colorbar(mesh, ax=ax[1])\n",
    "plt.tight_layout()"
   ]
  },
  {
   "cell_type": "code",
   "execution_count": null,
   "metadata": {},
   "outputs": [],
   "source": [
    "fig, ax = plt.subplots(1,1)\n",
    "fig.set_figwidth(16)\n",
    "fig.set_figheight(10)\n",
    "grammer.draw_hist1d('ex', ax)"
   ]
  }
 ],
 "metadata": {
  "kernelspec": {
   "display_name": ".venv",
   "language": "python",
   "name": "python3"
  },
  "language_info": {
   "codemirror_mode": {
    "name": "ipython",
    "version": 3
   },
   "file_extension": ".py",
   "mimetype": "text/x-python",
   "name": "python",
   "nbconvert_exporter": "python",
   "pygments_lexer": "ipython3",
   "version": "3.11.0rc1"
  },
  "orig_nbformat": 4
 },
 "nbformat": 4,
 "nbformat_minor": 2
}
