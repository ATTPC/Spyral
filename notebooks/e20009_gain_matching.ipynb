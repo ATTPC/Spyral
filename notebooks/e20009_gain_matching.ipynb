{
 "cells": [
  {
   "cell_type": "code",
   "execution_count": null,
   "metadata": {},
   "outputs": [],
   "source": [
    "import sys\n",
    "sys.path.append('..')\n",
    "from spyral_utils.plot import CutHandler, serialize_cut, Histogrammer\n",
    "from spyral_utils.nuclear import NuclearDataMap\n",
    "from spyral.core.workspace import Workspace\n",
    "from spyral.core.config import load_config\n",
    "from spyral.core.constants import DEG2RAD\n",
    "from spyral.core.particle_id import load_particle_id\n",
    "\n",
    "import polars as pl\n",
    "import numpy as np\n",
    "import matplotlib.pyplot as plt\n",
    "from matplotlib.widgets import PolygonSelector\n",
    "from pathlib import Path\n",
    "from json import load, dump\n",
    "\n",
    "%matplotlib widget\n",
    "\n",
    "RAD2DEG = 1.0/DEG2RAD"
   ]
  },
  {
   "cell_type": "code",
   "execution_count": null,
   "metadata": {},
   "outputs": [],
   "source": [
    "config = load_config(Path(\"D:\\\\e20009_pc\\\\e20009_config.json\"))\n",
    "ws = Workspace(config.workspace)\n",
    "nuclear_map = NuclearDataMap()"
   ]
  },
  {
   "cell_type": "code",
   "execution_count": null,
   "metadata": {},
   "outputs": [],
   "source": [
    "grammer = Histogrammer()\n",
    "handler = CutHandler()\n",
    "\n",
    "grammer.add_hist2d(\"particle_id\", (400, 400), ((-10.0, 15e3), (-0.1, 1.5))) # Plot of dEdx vs. Brho (particle ID)\n",
    "grammer.add_hist1d(\"ion_chamber\", 4096, (0.0, 4096.0)) # Plot of ion chamber (beam ID)\n",
    "grammer.add_hist2d(\"kinematics\", (720, 400), ((0.0, 180.0), (0.0, 3.0))) # Plot of polar angle vs. Brho (kinematics)"
   ]
  },
  {
   "cell_type": "code",
   "execution_count": null,
   "metadata": {},
   "outputs": [],
   "source": [
    "run_min = 207\n",
    "run_max = 211\n",
    "\n",
    "for run in range(run_min, run_max+1):\n",
    "    run_path = ws.get_estimate_file_path_parquet(run)\n",
    "    if not run_path.exists():\n",
    "        continue\n",
    "    df = pl.read_parquet(run_path)\n",
    "    # The below filter is optional. Filter the data on the ion chamber gate. Comment/Uncomment the line below to turn on/off the filter\n",
    "    df = df.filter((pl.col('ic_amplitude') > config.solver.ic_min_val) & (pl.col('ic_amplitude') < config.solver.ic_max_val))\n",
    "    grammer.fill_hist2d('particle_id', df.select('dEdx').to_numpy(), df.select('brho').to_numpy())\n",
    "    grammer.fill_hist2d('kinematics', df.select('polar').to_numpy() * RAD2DEG, df.select('brho').to_numpy())\n",
    "    grammer.fill_hist1d('ion_chamber', df.unique(subset=['event']).select('ic_amplitude').to_numpy())"
   ]
  },
  {
   "cell_type": "code",
   "execution_count": null,
   "metadata": {},
   "outputs": [],
   "source": [
    "pid_path = ws.get_gate_file_path(config.solver.particle_id_filename)\n",
    "with open(pid_path, \"r\") as pid_file:\n",
    "    cut_json =  load(pid_file)\n",
    "\n",
    "vertices = np.asarray(cut_json['vertices'])"
   ]
  },
  {
   "cell_type": "code",
   "execution_count": null,
   "metadata": {},
   "outputs": [],
   "source": [
    "gain_factor = 1.4\n",
    "\n",
    "pid_hist = grammer.get_hist2d(\"particle_id\")\n",
    "fig, ax = plt.subplots(1,1)\n",
    "mesh = ax.pcolormesh(pid_hist.x_bins, pid_hist.y_bins, pid_hist.counts)\n",
    "fig.colorbar(mesh, ax=ax)\n",
    "ax.plot(vertices[:, 0] / gain_factor, vertices[:, 1], color = 'red')\n",
    "ax.set_title(\"Particle ID\")\n",
    "ax.set_xlabel(\"dE/dx(arb.)\")\n",
    "ax.set_ylabel(\"B$\\\\rho$(Tm)\")\n",
    "fig.set_figheight(8.0)\n",
    "fig.set_figwidth(11.0)"
   ]
  }
 ],
 "metadata": {
  "kernelspec": {
   "display_name": "spyral_e20009",
   "language": "python",
   "name": "python3"
  },
  "language_info": {
   "codemirror_mode": {
    "name": "ipython",
    "version": 3
   },
   "file_extension": ".py",
   "mimetype": "text/x-python",
   "name": "python",
   "nbconvert_exporter": "python",
   "pygments_lexer": "ipython3",
   "version": "3.11.8"
  }
 },
 "nbformat": 4,
 "nbformat_minor": 2
}
