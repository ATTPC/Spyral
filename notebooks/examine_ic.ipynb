{
 "cells": [
  {
   "cell_type": "markdown",
   "metadata": {},
   "source": [
    "# Examining FRIBDAQ Data: The Ion Chamber\n",
    "\n",
    "This notebook demonstrates the algorithm in the point cloud phase used to analyze ion chamber data. Spyral *does not* need to have been run to use this notebook. Typically, AT-TPC data contains more than just the data produced by the AT-TPC itself. In particular, an upstream ion chamber is critical for selecting the beam of interest entering the AT-TPC. Without this, the data is polluted by reactions involving other beams than the species of interest. This data is typically handled by a separate DAQ called FRIB(NSCL)DAQ.  This notebook will demonstrate the analysis used by Spryal to extract the FRIBDAQ data as well as how it uses this data to improve the AT-TPC results.\n",
    "\n",
    "First we load the relevant libraries"
   ]
  },
  {
   "cell_type": "code",
   "execution_count": null,
   "metadata": {},
   "outputs": [],
   "source": [
    "from spyral.trace.frib_event import FribEvent, IC_COLUMN, SI_COLUMN\n",
    "from spyral.trace.frib_trace import FRIB_TRACE_LENGTH\n",
    "from spyral.phases.pointcloud_phase import get_event_range\n",
    "from spyral.core.run_stacks import form_run_string\n",
    "from spyral import FribParameters, DetectorParameters\n",
    "\n",
    "import h5py as h5\n",
    "import numpy.random as random\n",
    "import numpy as np\n",
    "from pathlib import Path\n",
    "import plotly.graph_objects as go"
   ]
  },
  {
   "cell_type": "markdown",
   "metadata": {},
   "source": [
    "Now we load our configuration and workspace. While using this notebook one can also customize the configuration on the fly without modifying the acutal JSON file"
   ]
  },
  {
   "cell_type": "code",
   "execution_count": null,
   "metadata": {},
   "outputs": [],
   "source": [
    "# Set some parameters\n",
    "trace_data_path = Path(\"/path/to/raw/attpc/traces/\")\n",
    "\n",
    "frib_params = FribParameters(\n",
    "    baseline_window_scale=100.0,\n",
    "    peak_separation=50.0,\n",
    "    peak_prominence=20.0,\n",
    "    peak_max_width=500.0,\n",
    "    peak_threshold=100.0,\n",
    "    ic_delay_time_bucket=1100,\n",
    "    ic_multiplicity=1,\n",
    "    correct_ic_time=True,\n",
    ")\n",
    "\n",
    "det_params = DetectorParameters(\n",
    "    magnetic_field=2.85,\n",
    "    electric_field=45000.0,\n",
    "    detector_length=1000.0,\n",
    "    beam_region_radius=25.0,\n",
    "    micromegas_time_bucket=10.0,\n",
    "    window_time_bucket=560.0,\n",
    "    get_frequency=6.25,\n",
    "    garfield_file_path=Path(\"/path/to/some/garfield.txt\"),\n",
    "    do_garfield_correction=False,\n",
    ")\n"
   ]
  },
  {
   "cell_type": "markdown",
   "metadata": {},
   "source": [
    "Pick a run and load the raw trace HDF5 file"
   ]
  },
  {
   "cell_type": "code",
   "execution_count": null,
   "metadata": {},
   "outputs": [],
   "source": [
    "run_number = 16\n",
    "trace_file_path = trace_data_path / f\"{form_run_string(run_number)}.h5\"\n",
    "trace_file = h5.File(trace_file_path, \"r\")"
   ]
  },
  {
   "cell_type": "markdown",
   "metadata": {},
   "source": [
    "We select the FRIB group and the evt subgroup (evt is an FRIBDAQ convention meaning the actual event data)"
   ]
  },
  {
   "cell_type": "code",
   "execution_count": null,
   "metadata": {},
   "outputs": [],
   "source": [
    "frib_group: h5.Group = trace_file['frib']\n",
    "trace_group: h5.Group = frib_group['evt']"
   ]
  },
  {
   "cell_type": "markdown",
   "metadata": {},
   "source": [
    "Now we select a specific event from the FRIBDAQ data. The event numbers here should match the event numbers in the GET data. By default a random event is selected, but it can be useful to hardcode the event to inspect specific behavior. We then retrieve the traces from the SIS3300 module (id 1903)."
   ]
  },
  {
   "cell_type": "code",
   "execution_count": null,
   "metadata": {},
   "outputs": [],
   "source": [
    "# Ask the trace file for the range of events\n",
    "min_event, max_event = get_event_range(trace_file)\n",
    "# Select a random event\n",
    "event_number = random.randint(min_event, max_event)\n",
    "print(f'Event {event_number}')\n",
    "# Can always overwrite with hardcoded event number if needed\n",
    "# event_number = 38537\n",
    "\n",
    "trace_data: h5.Dataset = trace_group[f'evt{event_number}_1903']"
   ]
  },
  {
   "cell_type": "markdown",
   "metadata": {},
   "source": [
    "First lets plot the raw trace for the ion chamber and an auxilary silicon detector"
   ]
  },
  {
   "cell_type": "code",
   "execution_count": null,
   "metadata": {},
   "outputs": [],
   "source": [
    "sample_range = np.arange(0, FRIB_TRACE_LENGTH)\n",
    "fig = go.Figure()\n",
    "fig.add_trace(\n",
    "    go.Scatter(\n",
    "        x=sample_range,\n",
    "        y=trace_data[:, IC_COLUMN],\n",
    "        mode=\"lines\",\n",
    "        name=\"Ion Chamber\"\n",
    "    )\n",
    ")\n",
    "fig.add_trace(\n",
    "    go.Scatter(\n",
    "        x=sample_range,\n",
    "        y=trace_data[:, SI_COLUMN],\n",
    "        mode=\"lines\",\n",
    "        name=\"Silicon\"\n",
    "    )\n",
    ")\n",
    "fig.update_layout(\n",
    "    xaxis_title=\"Time Bucket\",\n",
    "    yaxis_title=\"Amplitude\"\n",
    ")"
   ]
  },
  {
   "cell_type": "markdown",
   "metadata": {},
   "source": [
    "Now we'll clean up those traces, removing the baseline, by passing the data to the FribEvent class. This will also identify peaks in the traces, which we'll label in the plot."
   ]
  },
  {
   "cell_type": "code",
   "execution_count": null,
   "metadata": {},
   "outputs": [],
   "source": [
    "event = FribEvent(trace_data, event_number, frib_params)\n",
    "si_cents = []\n",
    "si_amps = []\n",
    "for peak in event.get_si_trace().peaks:\n",
    "    si_cents.append(peak.centroid)\n",
    "    si_amps.append(peak.amplitude)\n",
    "ic_cents = []\n",
    "ic_amps = []\n",
    "for peak in event.get_ic_trace().peaks:\n",
    "    ic_cents.append(peak.centroid)\n",
    "    ic_amps.append(peak.amplitude)\n",
    "\n",
    "\n",
    "fig = go.Figure()\n",
    "\n",
    "fig.add_trace(\n",
    "    go.Scatter(\n",
    "        x=sample_range,\n",
    "        y=event.get_ic_trace().trace,\n",
    "        mode=\"lines\",\n",
    "        name=\"Ion Chamber\"\n",
    "    )\n",
    ")\n",
    "fig.add_trace(\n",
    "    go.Scatter(\n",
    "        x=sample_range,\n",
    "        y=event.get_si_trace().trace,\n",
    "        mode=\"lines\",\n",
    "        name=\"Silicon\"\n",
    "    )\n",
    ")\n",
    "fig.add_trace(\n",
    "    go.Scatter(\n",
    "        x=ic_cents,\n",
    "        y=ic_amps,\n",
    "        mode=\"markers\",\n",
    "        name=\"IC Peaks\"\n",
    "    )\n",
    ")\n",
    "fig.add_trace(\n",
    "    go.Scatter(\n",
    "        x=si_cents,\n",
    "        y=si_amps,\n",
    "        mode=\"markers\",\n",
    "        name=\"Si Peaks\"\n",
    "    )\n",
    ")\n",
    "fig.update_layout(\n",
    "    xaxis_title=\"Time Bucket\",\n",
    "    yaxis_title=\"Amplitude\"\n",
    ")"
   ]
  },
  {
   "cell_type": "markdown",
   "metadata": {},
   "source": [
    "Another important concept of the ion chamber signal is the triggering peak. The ion chamber signal is used to generate the master trigger for an event, when in coincidence with the mesh signal. As the mesh signal is significantly later than the ion chamber, the ion chamber signal must be delayed. This delay means that, in the above spectra, there is no guarantee that the first peak is the peak which generated the trigger. In a basic IC analysis, the peak that we want is the peak that triggers, not all the other ones. Even in more advanced analyses we would need to know which peak caused the trigger. To figure out which peak causes the trigger, we use a simple method. Since the ion chamber is delayed a fixed amount every event, in general, the position of the trigger should not vary much. By running through some events in this notebook, you can identify this position, and use the `ic_delay_time_bucket` paramter in the configuration. This sets a lower threshold (in time); the first peak past this threshold is taken as the trigger. As such, FribEvent has some methods to handle this, demonstrated below."
   ]
  },
  {
   "cell_type": "code",
   "execution_count": null,
   "metadata": {},
   "outputs": [],
   "source": [
    "trigger = event.get_triggering_ic_peak(frib_params)\n",
    "if trigger is None:\n",
    "    raise Exception(\"There is no trigger in this event! Uh Oh!\")\n",
    "\n",
    "fig = go.Figure()\n",
    "fig.add_trace(\n",
    "    go.Scatter(\n",
    "        x=sample_range,\n",
    "        y=event.get_ic_trace().trace,\n",
    "        mode=\"lines\",\n",
    "        name=\"Ion Chamber\"\n",
    "    )\n",
    ")\n",
    "fig.add_trace(\n",
    "    go.Scatter(\n",
    "        x=[trigger.centroid],\n",
    "        y=[trigger.amplitude],\n",
    "        mode=\"markers\",\n",
    "        name=\"Triggering Peak\"\n",
    "    )\n",
    ")\n",
    "fig.add_vline(frib_params.ic_delay_time_bucket, annotation_text=\"Ion Chamber Delay\")"
   ]
  },
  {
   "cell_type": "markdown",
   "metadata": {},
   "source": [
    "Finally, we can use the peaks to identify the \"good\" ion chamber peak. A good ion chamber peak is identified as an ion chamber peak that *does not* have a coincident silicon peak and occurs after the trigger (or is the trigger). If the good ion chamber peak is not the trigger in the ion chamber spectrum, this means that the event time was acutally offset by the wrong beam event. We can correct for this by calculating the time difference between the trigger peak time and the good ion chamber peak time. Additionally, the configuration can controll the maximum allowed multiplicity for the ion chamber. By default the only singles events are allowed."
   ]
  },
  {
   "cell_type": "code",
   "execution_count": null,
   "metadata": {},
   "outputs": [],
   "source": [
    "good_ic = event.get_good_ic_peak(frib_params)\n",
    "if good_ic is not None:\n",
    "    peak = good_ic[1]\n",
    "    mult = good_ic[0]\n",
    "    print(f\"Good IC Peak: {peak} Multiplicity: {mult}\")\n",
    "    ic_offset = event.correct_ic_time(peak, frib_params, det_params.get_frequency)\n",
    "    print(f'IC Time Offset in GET Buckets: {ic_offset}')\n",
    "else:\n",
    "    print(\"No good IC peak\")"
   ]
  }
 ],
 "metadata": {
  "kernelspec": {
   "display_name": "Python 3 (ipykernel)",
   "language": "python",
   "name": "python3"
  },
  "language_info": {
   "codemirror_mode": {
    "name": "ipython",
    "version": 3
   },
   "file_extension": ".py",
   "mimetype": "text/x-python",
   "name": "python",
   "nbconvert_exporter": "python",
   "pygments_lexer": "ipython3",
   "version": "3.11.0"
  }
 },
 "nbformat": 4,
 "nbformat_minor": 4
}
