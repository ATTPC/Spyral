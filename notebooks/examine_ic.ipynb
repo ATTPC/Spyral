{
 "cells": [
  {
   "cell_type": "markdown",
   "metadata": {},
   "source": [
    "# Examining FRIBDAQ Data: The Ion Chamber\n",
    "\n",
    "This notebook demonstrates the algorithm in the point cloud phase used to analyze ion chamber data. Spyral *does not* need to have been run to use this notebook. Typically, AT-TPC data contains more than just the data produced by the AT-TPC itself. In particular, an upstream ion chamber is critical for selecting the beam of interest entering the AT-TPC. Without this, the data is polluted by reactions involving other beams than the species of interest. This data is typically handled by a separate DAQ called FRIB(NSCL)DAQ.  This notebook will demonstrate the analysis used by Spryal to extract the FRIBDAQ data as well as how it uses this data to improve the AT-TPC results.\n",
    "\n",
    "First we load the relevant libraries"
   ]
  },
  {
   "cell_type": "code",
   "execution_count": null,
   "metadata": {},
   "outputs": [],
   "source": [
    "import sys\n",
    "sys.path.append('..')\n",
    "from spyral.core.config import load_config\n",
    "from spyral.core.workspace import Workspace\n",
    "from spyral.trace.frib_event import FribEvent, IC_COLUMN, SI_COLUMN\n",
    "from spyral.trace.frib_trace import FRIB_TRACE_LENGTH\n",
    "from spyral.phase_pointcloud import get_event_range\n",
    "\n",
    "import h5py as h5\n",
    "import numpy.random as random\n",
    "import numpy as np\n",
    "from pathlib import Path\n",
    "import plotly.graph_objects as go"
   ]
  },
  {
   "cell_type": "markdown",
   "metadata": {},
   "source": [
    "Now we load our configuration and workspace. While using this notebook one can also customize the configuration on the fly without modifying the acutal JSON file"
   ]
  },
  {
   "cell_type": "code",
   "execution_count": null,
   "metadata": {},
   "outputs": [],
   "source": [
    "config = load_config(Path('../local_config.json'))\n",
    "# Tweak some parameters\n",
    "# config.trace.peak_threshold = 1\n",
    "\n",
    "# Create our workspace\n",
    "ws = Workspace(config.workspace)"
   ]
  },
  {
   "cell_type": "markdown",
   "metadata": {},
   "source": [
    "Pick a run and load the raw trace HDF5 file"
   ]
  },
  {
   "cell_type": "code",
   "execution_count": null,
   "metadata": {},
   "outputs": [],
   "source": [
    "run_number = config.run.run_min\n",
    "trace_file: h5.File = h5.File(ws.get_trace_file_path(run_number))"
   ]
  },
  {
   "cell_type": "markdown",
   "metadata": {},
   "source": [
    "We select the FRIB group and the evt subgroup (evt is an FRIBDAQ convention meaning the actual event data)"
   ]
  },
  {
   "cell_type": "code",
   "execution_count": null,
   "metadata": {},
   "outputs": [],
   "source": [
    "frib_group: h5.Group = trace_file['frib']\n",
    "trace_group: h5.Group = frib_group['evt']"
   ]
  },
  {
   "cell_type": "markdown",
   "metadata": {},
   "source": [
    "Now we select a specific event from the FRIBDAQ data. The event numbers here should match the event numbers in the GET data. By default a random event is selected, but it can be useful to hardcode the event to inspect specific behavior. We then retrieve the traces from the SIS3300 module (id 1903)."
   ]
  },
  {
   "cell_type": "code",
   "execution_count": null,
   "metadata": {},
   "outputs": [],
   "source": [
    "# Ask the trace file for the range of events\n",
    "min_event, max_event = get_event_range(trace_file)\n",
    "# Select a random event\n",
    "event_number = random.randint(min_event, max_event)\n",
    "print(f'Event {event_number}')\n",
    "# Can always overwrite with hardcoded event number if needed\n",
    "# event_number = 10322\n",
    "\n",
    "trace_data: h5.Dataset = trace_group[f'evt{event_number}_1903']"
   ]
  },
  {
   "cell_type": "markdown",
   "metadata": {},
   "source": [
    "First lets plot the raw trace for the ion chamber and an auxilary silicon detector"
   ]
  },
  {
   "cell_type": "code",
   "execution_count": null,
   "metadata": {},
   "outputs": [],
   "source": [
    "sample_range = np.arange(0, FRIB_TRACE_LENGTH)\n",
    "fig = go.Figure()\n",
    "fig.add_trace(\n",
    "    go.Scatter(\n",
    "        x=sample_range,\n",
    "        y=trace_data[:, IC_COLUMN],\n",
    "        mode=\"lines\",\n",
    "        name=\"Ion Chamber\"\n",
    "    )\n",
    ")\n",
    "fig.add_trace(\n",
    "    go.Scatter(\n",
    "        x=sample_range,\n",
    "        y=trace_data[:, SI_COLUMN],\n",
    "        mode=\"lines\",\n",
    "        name=\"Silicon\"\n",
    "    )\n",
    ")\n",
    "fig.update_layout(\n",
    "    xaxis_title=\"Time Bucket\",\n",
    "    yaxis_title=\"Amplitude\"\n",
    ")"
   ]
  },
  {
   "cell_type": "markdown",
   "metadata": {},
   "source": [
    "Now we'll clean up those traces, removing the baseline, by passing the data to the FribEvent class. This will also identify peaks in the traces, which we'll label in the plot."
   ]
  },
  {
   "cell_type": "code",
   "execution_count": null,
   "metadata": {},
   "outputs": [],
   "source": [
    "event = FribEvent(trace_data, event_number, config.frib)\n",
    "si_cents = []\n",
    "si_amps = []\n",
    "for peak in event.get_si_trace().peaks:\n",
    "    si_cents.append(peak.centroid)\n",
    "    si_amps.append(peak.amplitude)\n",
    "ic_cents = []\n",
    "ic_amps = []\n",
    "for peak in event.get_ic_trace().peaks:\n",
    "    ic_cents.append(peak.centroid)\n",
    "    ic_amps.append(peak.amplitude)\n",
    "\n",
    "\n",
    "fig = go.Figure()\n",
    "\n",
    "fig.add_trace(\n",
    "    go.Scatter(\n",
    "        x=sample_range,\n",
    "        y=event.get_ic_trace().trace,\n",
    "        mode=\"lines\",\n",
    "        name=\"Ion Chamber\"\n",
    "    )\n",
    ")\n",
    "fig.add_trace(\n",
    "    go.Scatter(\n",
    "        x=sample_range,\n",
    "        y=event.get_si_trace().trace,\n",
    "        mode=\"lines\",\n",
    "        name=\"Silicon\"\n",
    "    )\n",
    ")\n",
    "fig.add_trace(\n",
    "    go.Scatter(\n",
    "        x=ic_cents,\n",
    "        y=ic_amps,\n",
    "        mode=\"markers\",\n",
    "        name=\"IC Peaks\"\n",
    "    )\n",
    ")\n",
    "fig.add_trace(\n",
    "    go.Scatter(\n",
    "        x=si_cents,\n",
    "        y=si_amps,\n",
    "        mode=\"markers\",\n",
    "        name=\"Si Peaks\"\n",
    "    )\n",
    ")\n",
    "fig.update_layout(\n",
    "    xaxis_title=\"Time Bucket\",\n",
    "    yaxis_title=\"Amplitude\"\n",
    ")"
   ]
  },
  {
   "cell_type": "markdown",
   "metadata": {},
   "source": [
    "Finally, we can use the peaks to identify the \"good\" ion chamber peak. A good ion chamber peak is identified as an ion chamber peak that *does not* have a coincident silicon peak. If the good ion chamber peak is not the first peak in the ion chamber spectrum, this means that the trigger was acutally offset by the wrong beam event. We can correct for this by calculating the time difference between the earliest ion chamber peak and the good ion chamber peak. Additionally, the configuration can controll the maximum allowed multiplicity for the ion chamber. By default the only singles events are allowed."
   ]
  },
  {
   "cell_type": "code",
   "execution_count": null,
   "metadata": {},
   "outputs": [],
   "source": [
    "good_ic = event.get_good_ic_peak(config.frib)\n",
    "if good_ic is not None:\n",
    "    peak = good_ic[1]\n",
    "    mult = good_ic[0]\n",
    "    print(f\"Good IC Peak: {peak} Multiplicity: {mult}\")\n",
    "    ic_offset = event.correct_ic_time(peak, config.detector.get_frequency)\n",
    "    print(f'IC Time Offset in GET Buckets: {ic_offset}')\n",
    "else:\n",
    "    print(\"No good IC peak\")"
   ]
  }
 ],
 "metadata": {
  "kernelspec": {
   "display_name": "Python 3 (ipykernel)",
   "language": "python",
   "name": "python3"
  },
  "language_info": {
   "codemirror_mode": {
    "name": "ipython",
    "version": 3
   },
   "file_extension": ".py",
   "mimetype": "text/x-python",
   "name": "python",
   "nbconvert_exporter": "python",
   "pygments_lexer": "ipython3",
   "version": "3.11.0rc1"
  }
 },
 "nbformat": 4,
 "nbformat_minor": 4
}
